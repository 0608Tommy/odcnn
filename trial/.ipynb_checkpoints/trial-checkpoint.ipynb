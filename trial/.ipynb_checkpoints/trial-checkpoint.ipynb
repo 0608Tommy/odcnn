{
 "cells": [
  {
   "cell_type": "markdown",
   "metadata": {},
   "source": [
    "## tjaファイルのパース\n",
    "---"
   ]
  },
  {
   "cell_type": "code",
   "execution_count": 75,
   "metadata": {},
   "outputs": [],
   "source": [
    "import soundfile as sf\n",
    "import matplotlib.pyplot as plt\n",
    "import numpy as np\n",
    "import os\n",
    "from glob import glob\n",
    "from scipy import signal\n",
    "from scipy.fftpack import fft\n",
    "from librosa.filters import mel\n",
    "from librosa.display import specshow\n",
    "from librosa import stft\n",
    "from librosa.effects import pitch_shift\n",
    "import pickle\n",
    "import sys\n",
    "from numba import jit, prange\n",
    "from sklearn.preprocessing import normalize"
   ]
  },
  {
   "cell_type": "code",
   "execution_count": 76,
   "metadata": {},
   "outputs": [],
   "source": [
    "def import_tja(filename, diff=False):\n",
    "    \n",
    "    timestamp = []\n",
    "    title = ''\n",
    "    bpm = 100\n",
    "    wav = ''\n",
    "    now = 0  # for offset\n",
    "    measure = [4,4]\n",
    "    \n",
    "    with open(filename, \"rb\") as f:\n",
    "\n",
    "        while True:\n",
    "        \n",
    "            line = f.readline()\n",
    "            \n",
    "            try:\n",
    "                line = line.decode('utf-8')\n",
    "            except UnicodeDecodeError:\n",
    "                line = line.decode('sjis')\n",
    "            \n",
    "            # findメソッドは引数に渡されたパターンんが最初に現れるインデックスを返す else: return -1\n",
    "            if line.find('//') != -1:\n",
    "                line = line[:line.find('//')]\n",
    "            if line[0:5] == 'TITLE':\n",
    "                title = line[6:-2]\n",
    "            elif line[0:4] == 'BPM:':\n",
    "                bpm = float(line[4:-2])\n",
    "            elif line [0:6] == 'OFFSET':\n",
    "                now = -float(line[7:-2])\n",
    "            elif line == '#START\\r\\n':\n",
    "                break\n",
    "            \n",
    "        sound = []\n",
    "        while True:\n",
    "\n",
    "            line = f.readline()\n",
    "            \n",
    "            try:\n",
    "                line = line.decode('utf-8')\n",
    "            except UnicodeDecodeError:\n",
    "                line = line.decode('sjis')\n",
    "\n",
    "\n",
    "            if line.find('//') != -1:\n",
    "                line = line[:line.find('//')]\n",
    "\n",
    "            if line[0] <= '9' and line[0] >= '0':\n",
    "                if line.find(',') != -1:\n",
    "                    sound += line[0:line.find(',')]\n",
    "                    beat = len(sound)\n",
    "\n",
    "                    for i in range(beat):\n",
    "                        if diff:\n",
    "                            if int(sound[i]) in (1,3,5,6,7):  # ドン\n",
    "                                timestamp.append(\n",
    "                                    [int(100*(now+i*60*measure[0]/bpm/beat))/100,1])  # 1 / beat秒のタイムスタンプと，トークン(1,2)\n",
    "                            elif int(sound[i] in (2,4)):  # カ\n",
    "                                timestamp.append(\n",
    "                                    [int(100*(now+i*60*measure[0]/bpm/beat))/100,2])\n",
    "                        else:\n",
    "                            if int(sound[i]) != 0:\n",
    "                                   timestamp.append(\n",
    "                                   [int(100*(now+i*60*measure[0]/bpm/beat))/100,int(sound[i])])\n",
    "\n",
    "                    now += 60/bpm*measure[0]  # 一小節終わり (一小節分の秒数)\n",
    "                    sound = []\n",
    "\n",
    "                else:\n",
    "                    sound += line[0:-2]\n",
    "\n",
    "            elif line[0] == ',':\n",
    "                now += 60/bpm*measure[0]\n",
    "            elif line[0:10] == '#BPMCHANGE':\n",
    "                bpm = float(line[11:-2])\n",
    "            elif line[0:8] == '#MEASURE':\n",
    "                measure[0] = int(line[line.find('/')-1])\n",
    "                measure[1] = int(line[line.find('/')+1])\n",
    "            elif line[0:6] == '#DELAY':\n",
    "                now += float(line[7:-2])\n",
    "            elif line[0:4] == \"#END\":\n",
    "                break\n",
    "                    \n",
    "    return np.array(timestamp)"
   ]
  },
  {
   "cell_type": "code",
   "execution_count": 77,
   "metadata": {},
   "outputs": [],
   "source": [
    "data, samplerate = sf.read('taitatsudata_24karats TRIBE OF GOLD_24karats TRIBE OF GOLD.ogg', always_2d=True)"
   ]
  },
  {
   "cell_type": "code",
   "execution_count": 78,
   "metadata": {},
   "outputs": [],
   "source": [
    "timestamp = import_tja('taitatsudata_24karats TRIBE OF GOLD_24karats TRIBE OF GOLD.tja')"
   ]
  },
  {
   "cell_type": "code",
   "execution_count": 79,
   "metadata": {},
   "outputs": [
    {
     "data": {
      "text/plain": [
       "array([[6.  , 1.  ],\n",
       "       [6.29, 2.  ],\n",
       "       [6.43, 1.  ],\n",
       "       [6.72, 2.  ],\n",
       "       [6.87, 1.  ],\n",
       "       [7.16, 2.  ],\n",
       "       [7.31, 1.  ],\n",
       "       [7.45, 2.  ],\n",
       "       [7.6 , 2.  ],\n",
       "       [7.74, 1.  ]])"
      ]
     },
     "execution_count": 79,
     "metadata": {},
     "output_type": "execute_result"
    }
   ],
   "source": [
    "timestamp[:10]"
   ]
  },
  {
   "cell_type": "code",
   "execution_count": 80,
   "metadata": {},
   "outputs": [],
   "source": [
    "def synthesize(diff=True, don='../data/data_don.wav', ka='../data/data_ka.wav'):\n",
    "    \n",
    "    donsound = sf.read(don)[0]\n",
    "    kasound = sf.read(ka)[0]\n",
    "    donlen = len(donsound)\n",
    "    kalen = len(kasound)\n",
    "    \n",
    "    if diff is True:\n",
    "        for stamp in timestamp:\n",
    "            \n",
    "            timing = int(stamp[0]*samplerate)  # fps分の値を確保する\n",
    "            \n",
    "            try:\n",
    "                if stamp[1] in (1,3,5,6,7):\n",
    "                    data[timing:timing+donlen] += donsound\n",
    "                elif stamp[1] in (2,4):\n",
    "                    data[timing:timing+kalen] += kasound\n",
    "            \n",
    "            except ValueError:\n",
    "                pass\n",
    "            \n",
    "    elif diff == 'don':\n",
    "        if isinstance(self.timestamp[0], tuple):\n",
    "            for stamp in self.timestamp:\n",
    "                if stamp*self.samplerate+donlen < self.data.shape[0]:\n",
    "                    self.data[int(stamp[0]*self.samplerate):int(stamp[0]*self.samplerate) + donlen] += donsound\n",
    "        else:\n",
    "            for stamp in self.timestamp:\n",
    "                if stamp*self.samplerate+donlen < self.data.shape[0]:\n",
    "                    self.data[int(stamp*self.samplerate):int(stamp*self.samplerate) + donlen] += donsound\n",
    "    \n",
    "    elif diff == 'ka':\n",
    "        if isinstance(self.timestamp[0], tuple):\n",
    "            for stamp in self.timestamp:\n",
    "                if stamp*self.samplerate+kalen < self.data.shape[0]:\n",
    "                    self.data[int(stamp[0]*self.samplerate):int(stamp[0]*self.samplerate) + kalen] += kasound\n",
    "        else:\n",
    "            for stamp in self.timestamp:\n",
    "                if stamp*self.samplerate+kalen < self.data.shape[0]:\n",
    "                    self.data[int(stamp*self.samplerate):int(stamp*self.samplerate) + kalen] += kasound\n",
    "        "
   ]
  },
  {
   "cell_type": "code",
   "execution_count": 81,
   "metadata": {},
   "outputs": [],
   "source": [
    "synthesize()"
   ]
  },
  {
   "cell_type": "markdown",
   "metadata": {},
   "source": [
    "- とりあえずtjaファイルからドンとカの音を抽出し（音の出だしを記録）タイムスタンプ化し，音を原曲に加えることにも成功．"
   ]
  },
  {
   "cell_type": "code",
   "execution_count": 82,
   "metadata": {},
   "outputs": [],
   "source": [
    "sf.write('new.wav', data, samplerate)"
   ]
  },
  {
   "cell_type": "markdown",
   "metadata": {},
   "source": [
    "## フーリエ変換\n",
    "---"
   ]
  },
  {
   "cell_type": "markdown",
   "metadata": {},
   "source": [
    "- 音楽データの準備"
   ]
  },
  {
   "cell_type": "code",
   "execution_count": 110,
   "metadata": {},
   "outputs": [],
   "source": [
    "music = sf.read('taitatsudata_24karats TRIBE OF GOLD_24karats TRIBE OF GOLD.ogg', always_2d=True)[0]"
   ]
  },
  {
   "cell_type": "code",
   "execution_count": 112,
   "metadata": {},
   "outputs": [
    {
     "data": {
      "text/plain": [
       "[<matplotlib.lines.Line2D at 0x1c3835e208>]"
      ]
     },
     "execution_count": 112,
     "metadata": {},
     "output_type": "execute_result"
    },
    {
     "data": {
      "image/png": "[encoded data removed]",
      "text/plain": [
       "<Figure size 432x288 with 1 Axes>"
      ]
     },
     "metadata": {},
     "output_type": "display_data"
    }
   ],
   "source": [
    "import matplotlib.pyplot as plt\n",
    "plt.style.use('ggplot')\n",
    "\n",
    "plt.plot(range(len(music)), music[:, 0])"
   ]
  },
  {
   "cell_type": "markdown",
   "metadata": {},
   "source": [
    "- それを細かい時間（0.01-0.04秒程度、正確には512-2048サンプル）取り出す\n",
    "- 以下は512サンプル"
   ]
  },
  {
   "cell_type": "code",
   "execution_count": 114,
   "metadata": {},
   "outputs": [
    {
     "data": {
      "text/plain": [
       "[<matplotlib.lines.Line2D at 0x108cdfac8>]"
      ]
     },
     "execution_count": 114,
     "metadata": {},
     "output_type": "execute_result"
    },
    {
     "data": {
      "image/png": "[encoded data removed]",
      "text/plain": [
       "<Figure size 432x288 with 1 Axes>"
      ]
     },
     "metadata": {},
     "output_type": "display_data"
    }
   ],
   "source": [
    "plt.plot(range(512*100, 512*101), music[512*100:512*101, 0])"
   ]
  },
  {
   "cell_type": "markdown",
   "metadata": {},
   "source": [
    "- それをフーリエ変換にかけて周波数別の強度を算出します。"
   ]
  },
  {
   "cell_type": "code",
   "execution_count": 126,
   "metadata": {},
   "outputs": [
    {
     "data": {
      "text/plain": [
       "[<matplotlib.lines.Line2D at 0x1c379fe4e0>]"
      ]
     },
     "execution_count": 126,
     "metadata": {},
     "output_type": "execute_result"
    },
    {
     "data": {
      "image/png": "[encoded data removed]",
      "text/plain": [
       "<Figure size 432x288 with 1 Axes>"
      ]
     },
     "metadata": {},
     "output_type": "display_data"
    }
   ],
   "source": [
    "s = stft(music[512*100:512*101, 0])\n",
    "plt.plot(abs(s[:, 0]))"
   ]
  },
  {
   "cell_type": "code",
   "execution_count": 124,
   "metadata": {},
   "outputs": [
    {
     "data": {
      "text/plain": [
       "array([[ 2.3326514 +0.0000000e+00j,  2.3291814 +0.0000000e+00j],\n",
       "       [-0.8325999 +4.7921736e-17j, -1.4997118 -2.0562969e-03j],\n",
       "       [-0.66875815-1.4197523e-16j,  0.6661692 +4.0751300e-03j],\n",
       "       ...,\n",
       "       [-0.00489231-4.6242272e-17j,  0.00482983-2.9490899e-05j],\n",
       "       [-0.00790218-1.3769368e-16j, -0.01274073+1.4962900e-05j],\n",
       "       [ 0.02061911+0.0000000e+00j,  0.02060434+0.0000000e+00j]],\n",
       "      dtype=complex64)"
      ]
     },
     "execution_count": 124,
     "metadata": {},
     "output_type": "execute_result"
    }
   ],
   "source": [
    "s"
   ]
  },
  {
   "cell_type": "markdown",
   "metadata": {},
   "source": [
    "- これを人間に聞こえるのと同じ尺度へと変更します。具体的には、周波数の情報がこれだと512個もあるので、80個ほどに減らしてデータ量を削減すると同時に、log10log10を取ります.\n",
    "\n",
    "- この一連の作業を0.01秒ずつ（これも正確には512サンプル）ずらしながら曲全体に対して行います。"
   ]
  },
  {
   "cell_type": "code",
   "execution_count": 85,
   "metadata": {},
   "outputs": [],
   "source": [
    "def Frame(data, nhop, nfft):\n",
    "    \n",
    "    length = data.shape[0]\n",
    "    framedata = np.concatenate((data, np.zeros(nfft)))\n",
    "    \n",
    "    return np.array([framedata[i*nhop:i*nhop+nfft] for i in range(length//nhop)])"
   ]
  },
  {
   "cell_type": "code",
   "execution_count": 90,
   "metadata": {},
   "outputs": [],
   "source": [
    "def fft_and_melscale(song, nhop=512, nffts=[1024, 2048, 4096], mel_nband=80, mel_freqlo=27.5, mel_freqhi=16000.0, include_zero_cross=False):\n",
    "\n",
    "    feat_channels = []\n",
    "    \n",
    "    for nfft in nffts:\n",
    "        feats = []\n",
    "        window = signal.blackmanharris(nfft)\n",
    "        filt = mel(samplerate, nfft, mel_nband, mel_freqlo, mel_freqhi)\n",
    "        frame = Frame(song.data, nhop, nfft)\n",
    "        print(frame.shape)\n",
    "        processedframe = fft(window*frame)[:, :nfft//2+1]\n",
    "        processedframe = np.dot(filt, np.transpose(np.abs(processedframe)**2))\n",
    "        processedframe = 20*np.log10(processedframe+0.1)\n",
    "        print(processedframe.shape)\n",
    "        feat_channels.append(processedframe)\n",
    "\n",
    "    if include_zero_cross:\n",
    "        song.zero_crossing = np.where(np.diff(np.sign(song.data)))[0]\n",
    "        print(song.zero_crossing)\n",
    "    \n",
    "    return np.array(feat_channels)"
   ]
  },
  {
   "cell_type": "code",
   "execution_count": 91,
   "metadata": {},
   "outputs": [
    {
     "name": "stdout",
     "output_type": "stream",
     "text": [
      "(10371, 1024)\n",
      "(80, 10371)\n",
      "(10371, 2048)\n",
      "(80, 10371)\n",
      "(10371, 4096)\n",
      "(80, 10371)\n"
     ]
    }
   ],
   "source": [
    "feats = fft_and_melscale((data[:,0]+data[:,1])/2)"
   ]
  },
  {
   "cell_type": "code",
   "execution_count": 103,
   "metadata": {},
   "outputs": [],
   "source": [
    "def multi_fft_and_melscale(songs, nhop=512, nffts=[1024, 2048, 4096], mel_nband=80, mel_freqlo=27.5, mel_freqhi=16000.0, include_zero_cross=False):\n",
    "    for i in prange(len(songs)):\n",
    "        songs[i].feats = fft_and_melscale(\n",
    "            songs[i], nhop, nffts, mel_nband, mel_freqlo, mel_freqhi)"
   ]
  },
  {
   "cell_type": "code",
   "execution_count": null,
   "metadata": {},
   "outputs": [],
   "source": []
  }
 ],
 "metadata": {
  "kernelspec": {
   "display_name": "Python 3",
   "language": "python",
   "name": "python3"
  },
  "language_info": {
   "codemirror_mode": {
    "name": "ipython",
    "version": 3
   },
   "file_extension": ".py",
   "mimetype": "text/x-python",
   "name": "python",
   "nbconvert_exporter": "python",
   "pygments_lexer": "ipython3",
   "version": "3.6.8"
  }
 },
 "nbformat": 4,
 "nbformat_minor": 2
}
