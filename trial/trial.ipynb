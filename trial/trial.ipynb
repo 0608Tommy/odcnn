{
 "cells": [
  {
   "cell_type": "markdown",
   "metadata": {},
   "source": [
    "## tjaファイルのパース"
   ]
  },
  {
   "cell_type": "code",
   "execution_count": 12,
   "metadata": {},
   "outputs": [],
   "source": [
    "import soundfile as sf\n",
    "import matplotlib.pyplot as plt\n",
    "import numpy as np\n",
    "import os\n",
    "from glob import glob\n",
    "from scipy import signal\n",
    "from scipy.fftpack import fft\n",
    "from librosa.filters import mel\n",
    "from librosa.display import specshow\n",
    "from librosa import stft\n",
    "from librosa.effects import pitch_shift\n",
    "import pickle\n",
    "import sys\n",
    "from numba import jit, prange\n",
    "from sklearn.preprocessing import normalize"
   ]
  },
  {
   "cell_type": "code",
   "execution_count": 45,
   "metadata": {},
   "outputs": [],
   "source": [
    "def import_tja(filename, diff=False):\n",
    "    \n",
    "    timestamp = []\n",
    "    title = ''\n",
    "    bpm = 100\n",
    "    wav = ''\n",
    "    now = 0  # for offset\n",
    "    measure = [4,4]\n",
    "    \n",
    "    with open(filename, \"rb\") as f:\n",
    "\n",
    "        while True:\n",
    "        \n",
    "            line = f.readline()\n",
    "            \n",
    "            try:\n",
    "                line = line.decode('utf-8')\n",
    "            except UnicodeDecodeError:\n",
    "                line = line.decode('sjis')\n",
    "            \n",
    "            # findメソッドは引数に渡されたパターンんが最初に現れるインデックスを返す else: return -1\n",
    "            if line.find('//') != -1:\n",
    "                line = line[:line.find('//')]\n",
    "            if line[0:5] == 'TITLE':\n",
    "                title = line[6:-2]\n",
    "            elif line[0:4] == 'BPM:':\n",
    "                bpm = float(line[4:-2])\n",
    "            elif line [0:6] == 'OFFSET':\n",
    "                now = -float(line[7:-2])\n",
    "            elif line == '#START\\r\\n':\n",
    "                break\n",
    "            \n",
    "        sound = []\n",
    "        while True:\n",
    "\n",
    "            line = f.readline()\n",
    "            \n",
    "            try:\n",
    "                line = line.decode('utf-8')\n",
    "            except UnicodeDecodeError:\n",
    "                line = line.decode('sjis')\n",
    "\n",
    "\n",
    "            if line.find('//') != -1:\n",
    "                line = line[:line.find('//')]\n",
    "\n",
    "            if line[0] <= '9' and line[0] >= '0':\n",
    "                if line.find(',') != -1:\n",
    "                    sound += line[0:line.find(',')]\n",
    "                    beat = len(sound)\n",
    "\n",
    "                    for i in range(beat):\n",
    "                        if diff:\n",
    "                            if int(sound[i]) in (1,3,5,6,7):  # ドン\n",
    "                                timestamp.append(\n",
    "                                    [int(100*(now+i*60*measure[0]/bpm/beat))/100,1])  # 1 / beat秒のタイムスタンプと，トークン(1,2)\n",
    "                            elif int(sound[i] in (2,4)):  # カ\n",
    "                                timestamp.append(\n",
    "                                    [int(100*(now+i*60*measure[0]/bpm/beat))/100,2])\n",
    "                        else:\n",
    "                            if int(sound[i]) != 0:\n",
    "                                   timestamp.append(\n",
    "                                   [int(100*(now+i*60*measure[0]/bpm/beat))/100,int(sound[i])])\n",
    "\n",
    "                    now += 60/bpm*measure[0]  # 一小節終わり (一小節分の秒数)\n",
    "                    sound = []\n",
    "\n",
    "                else:\n",
    "                    sound += line[0:-2]\n",
    "\n",
    "            elif line[0] == ',':\n",
    "                now += 60/bpm*measure[0]\n",
    "            elif line[0:10] == '#BPMCHANGE':\n",
    "                bpm = float(line[11:-2])\n",
    "            elif line[0:8] == '#MEASURE':\n",
    "                measure[0] = int(line[line.find('/')-1])\n",
    "                measure[1] = int(line[line.find('/')+1])\n",
    "            elif line[0:6] == '#DELAY':\n",
    "                now += float(line[7:-2])\n",
    "            elif line[0:4] == \"#END\":\n",
    "                break\n",
    "                    \n",
    "    return np.array(timestamp)"
   ]
  },
  {
   "cell_type": "code",
   "execution_count": 52,
   "metadata": {},
   "outputs": [],
   "source": [
    "data, samplerate = sf.read('taitatsudata_24karats TRIBE OF GOLD_24karats TRIBE OF GOLD.ogg', always_2d=True)"
   ]
  },
  {
   "cell_type": "code",
   "execution_count": 47,
   "metadata": {},
   "outputs": [],
   "source": [
    "timestamp = import_tja('taitatsudata_24karats TRIBE OF GOLD_24karats TRIBE OF GOLD.tja')"
   ]
  },
  {
   "cell_type": "code",
   "execution_count": 50,
   "metadata": {},
   "outputs": [
    {
     "data": {
      "text/plain": [
       "array([[6.  , 1.  ],\n",
       "       [6.29, 2.  ],\n",
       "       [6.43, 1.  ],\n",
       "       [6.72, 2.  ],\n",
       "       [6.87, 1.  ],\n",
       "       [7.16, 2.  ],\n",
       "       [7.31, 1.  ],\n",
       "       [7.45, 2.  ],\n",
       "       [7.6 , 2.  ],\n",
       "       [7.74, 1.  ]])"
      ]
     },
     "execution_count": 50,
     "metadata": {},
     "output_type": "execute_result"
    }
   ],
   "source": [
    "timestamp[:10]"
   ]
  },
  {
   "cell_type": "code",
   "execution_count": 60,
   "metadata": {},
   "outputs": [],
   "source": [
    "def synthesize(diff=True, don='../data/data_don.wav', ka='../data/data_ka.wav'):\n",
    "    \n",
    "    donsound = sf.read(don)[0]\n",
    "    kasound = sf.read(ka)[0]\n",
    "    donlen = len(donsound)\n",
    "    kalen = len(kasound)\n",
    "    \n",
    "    if diff is True:\n",
    "        for stamp in timestamp:\n",
    "            \n",
    "            timing = int(stamp[0]*samplerate)  # fps分の値を確保する\n",
    "            \n",
    "            try:\n",
    "                if stamp[1] in (1,3,5,6,7):\n",
    "                    data[timing:timing+donlen] += donsound\n",
    "                elif stamp[1] in (2,4):\n",
    "                    data[timing:timing+kalen] += kasound\n",
    "            \n",
    "            except ValueError:\n",
    "                pass\n",
    "            \n",
    "    elif diff == 'don':\n",
    "        if isinstance(self.timestamp[0], tuple):\n",
    "            for stamp in self.timestamp:\n",
    "                if stamp*self.samplerate+donlen < self.data.shape[0]:\n",
    "                    self.data[int(stamp[0]*self.samplerate):int(stamp[0]*self.samplerate) + donlen] += donsound\n",
    "        else:\n",
    "            for stamp in self.timestamp:\n",
    "                if stamp*self.samplerate+donlen < self.data.shape[0]:\n",
    "                    self.data[int(stamp*self.samplerate):int(stamp*self.samplerate) + donlen] += donsound\n",
    "    \n",
    "    elif diff == 'ka':\n",
    "        if isinstance(self.timestamp[0], tuple):\n",
    "            for stamp in self.timestamp:\n",
    "                if stamp*self.samplerate+kalen < self.data.shape[0]:\n",
    "                    self.data[int(stamp[0]*self.samplerate):int(stamp[0]*self.samplerate) + kalen] += kasound\n",
    "        else:\n",
    "            for stamp in self.timestamp:\n",
    "                if stamp*self.samplerate+kalen < self.data.shape[0]:\n",
    "                    self.data[int(stamp*self.samplerate):int(stamp*self.samplerate) + kalen] += kasound\n",
    "        "
   ]
  },
  {
   "cell_type": "code",
   "execution_count": 70,
   "metadata": {},
   "outputs": [],
   "source": [
    "synthesize()"
   ]
  },
  {
   "cell_type": "markdown",
   "metadata": {},
   "source": [
    "- とりあえずドンとカの音をタイムスタンプ化し，音を原曲に加えることに成功．"
   ]
  },
  {
   "cell_type": "code",
   "execution_count": 72,
   "metadata": {},
   "outputs": [],
   "source": [
    "sf.write('new.wav', data, samplerate)"
   ]
  }
 ],
 "metadata": {
  "kernelspec": {
   "display_name": "Python 3",
   "language": "python",
   "name": "python3"
  },
  "language_info": {
   "codemirror_mode": {
    "name": "ipython",
    "version": 3
   },
   "file_extension": ".py",
   "mimetype": "text/x-python",
   "name": "python",
   "nbconvert_exporter": "python",
   "pygments_lexer": "ipython3",
   "version": "3.6.8"
  }
 },
 "nbformat": 4,
 "nbformat_minor": 2
}
